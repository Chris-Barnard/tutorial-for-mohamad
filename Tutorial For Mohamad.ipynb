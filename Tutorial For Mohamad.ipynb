{
 "cells": [
  {
   "cell_type": "code",
   "execution_count": 1,
   "metadata": {
    "collapsed": false
   },
   "outputs": [],
   "source": [
    "# Load in required libraries\n",
    "\n",
    "import pandas as pd # loads pandas\n",
    "import numpy as np # loads numpy\n",
    "import matplotlib.pyplot as plt\n",
    "import seaborn as sns # loads the seaborn library\n",
    "# sets the option we want our plot output to appear inline with our results\n",
    "%matplotlib inline\n"
   ]
  },
  {
   "cell_type": "markdown",
   "metadata": {},
   "source": [
    "# What is pandas?\n",
    "* Pandas is a library or framework for python created to store, manipulate, and perform calculations on data **in memory.**\n",
    "* This means that it is usually faster than SQL, but comes obviously at a tradeoff for very large datasets.  That being said, it is still quite efficient\n",
    "* Because SQL and pandas both can be used for tasks of manipulating data, I will try to include the SQL code for each pandas statement so that you can understand what it is doing."
   ]
  },
  {
   "cell_type": "markdown",
   "metadata": {},
   "source": [
    "# Loading in data"
   ]
  },
  {
   "cell_type": "code",
   "execution_count": 2,
   "metadata": {
    "collapsed": false,
    "scrolled": false
   },
   "outputs": [
    {
     "data": {
      "text/html": [
       "<div>\n",
       "<table border=\"1\" class=\"dataframe\">\n",
       "  <thead>\n",
       "    <tr style=\"text-align: right;\">\n",
       "      <th></th>\n",
       "      <th>Loan_ID</th>\n",
       "      <th>Gender</th>\n",
       "      <th>Married</th>\n",
       "      <th>Dependents</th>\n",
       "      <th>Education</th>\n",
       "      <th>Self_Employed</th>\n",
       "      <th>ApplicantIncome</th>\n",
       "      <th>CoapplicantIncome</th>\n",
       "      <th>LoanAmount</th>\n",
       "      <th>Loan_Amount_Term</th>\n",
       "      <th>Credit_History</th>\n",
       "      <th>Property_Area</th>\n",
       "      <th>Loan_Status</th>\n",
       "    </tr>\n",
       "  </thead>\n",
       "  <tbody>\n",
       "    <tr>\n",
       "      <th>0</th>\n",
       "      <td>LP001002</td>\n",
       "      <td>Male</td>\n",
       "      <td>No</td>\n",
       "      <td>0</td>\n",
       "      <td>Graduate</td>\n",
       "      <td>No</td>\n",
       "      <td>5849</td>\n",
       "      <td>0.0</td>\n",
       "      <td>NaN</td>\n",
       "      <td>360.0</td>\n",
       "      <td>1.0</td>\n",
       "      <td>Urban</td>\n",
       "      <td>Y</td>\n",
       "    </tr>\n",
       "    <tr>\n",
       "      <th>1</th>\n",
       "      <td>LP001003</td>\n",
       "      <td>Male</td>\n",
       "      <td>Yes</td>\n",
       "      <td>1</td>\n",
       "      <td>Graduate</td>\n",
       "      <td>No</td>\n",
       "      <td>4583</td>\n",
       "      <td>1508.0</td>\n",
       "      <td>128.0</td>\n",
       "      <td>360.0</td>\n",
       "      <td>1.0</td>\n",
       "      <td>Rural</td>\n",
       "      <td>N</td>\n",
       "    </tr>\n",
       "    <tr>\n",
       "      <th>2</th>\n",
       "      <td>LP001005</td>\n",
       "      <td>Male</td>\n",
       "      <td>Yes</td>\n",
       "      <td>0</td>\n",
       "      <td>Graduate</td>\n",
       "      <td>Yes</td>\n",
       "      <td>3000</td>\n",
       "      <td>0.0</td>\n",
       "      <td>66.0</td>\n",
       "      <td>360.0</td>\n",
       "      <td>1.0</td>\n",
       "      <td>Urban</td>\n",
       "      <td>Y</td>\n",
       "    </tr>\n",
       "    <tr>\n",
       "      <th>3</th>\n",
       "      <td>LP001006</td>\n",
       "      <td>Male</td>\n",
       "      <td>Yes</td>\n",
       "      <td>0</td>\n",
       "      <td>Not Graduate</td>\n",
       "      <td>No</td>\n",
       "      <td>2583</td>\n",
       "      <td>2358.0</td>\n",
       "      <td>120.0</td>\n",
       "      <td>360.0</td>\n",
       "      <td>1.0</td>\n",
       "      <td>Urban</td>\n",
       "      <td>Y</td>\n",
       "    </tr>\n",
       "    <tr>\n",
       "      <th>4</th>\n",
       "      <td>LP001008</td>\n",
       "      <td>Male</td>\n",
       "      <td>No</td>\n",
       "      <td>0</td>\n",
       "      <td>Graduate</td>\n",
       "      <td>No</td>\n",
       "      <td>6000</td>\n",
       "      <td>0.0</td>\n",
       "      <td>141.0</td>\n",
       "      <td>360.0</td>\n",
       "      <td>1.0</td>\n",
       "      <td>Urban</td>\n",
       "      <td>Y</td>\n",
       "    </tr>\n",
       "    <tr>\n",
       "      <th>5</th>\n",
       "      <td>LP001011</td>\n",
       "      <td>Male</td>\n",
       "      <td>Yes</td>\n",
       "      <td>2</td>\n",
       "      <td>Graduate</td>\n",
       "      <td>Yes</td>\n",
       "      <td>5417</td>\n",
       "      <td>4196.0</td>\n",
       "      <td>267.0</td>\n",
       "      <td>360.0</td>\n",
       "      <td>1.0</td>\n",
       "      <td>Urban</td>\n",
       "      <td>Y</td>\n",
       "    </tr>\n",
       "    <tr>\n",
       "      <th>6</th>\n",
       "      <td>LP001013</td>\n",
       "      <td>Male</td>\n",
       "      <td>Yes</td>\n",
       "      <td>0</td>\n",
       "      <td>Not Graduate</td>\n",
       "      <td>No</td>\n",
       "      <td>2333</td>\n",
       "      <td>1516.0</td>\n",
       "      <td>95.0</td>\n",
       "      <td>360.0</td>\n",
       "      <td>1.0</td>\n",
       "      <td>Urban</td>\n",
       "      <td>Y</td>\n",
       "    </tr>\n",
       "    <tr>\n",
       "      <th>7</th>\n",
       "      <td>LP001014</td>\n",
       "      <td>Male</td>\n",
       "      <td>Yes</td>\n",
       "      <td>3+</td>\n",
       "      <td>Graduate</td>\n",
       "      <td>No</td>\n",
       "      <td>3036</td>\n",
       "      <td>2504.0</td>\n",
       "      <td>158.0</td>\n",
       "      <td>360.0</td>\n",
       "      <td>0.0</td>\n",
       "      <td>Semiurban</td>\n",
       "      <td>N</td>\n",
       "    </tr>\n",
       "    <tr>\n",
       "      <th>8</th>\n",
       "      <td>LP001018</td>\n",
       "      <td>Male</td>\n",
       "      <td>Yes</td>\n",
       "      <td>2</td>\n",
       "      <td>Graduate</td>\n",
       "      <td>No</td>\n",
       "      <td>4006</td>\n",
       "      <td>1526.0</td>\n",
       "      <td>168.0</td>\n",
       "      <td>360.0</td>\n",
       "      <td>1.0</td>\n",
       "      <td>Urban</td>\n",
       "      <td>Y</td>\n",
       "    </tr>\n",
       "    <tr>\n",
       "      <th>9</th>\n",
       "      <td>LP001020</td>\n",
       "      <td>Male</td>\n",
       "      <td>Yes</td>\n",
       "      <td>1</td>\n",
       "      <td>Graduate</td>\n",
       "      <td>No</td>\n",
       "      <td>12841</td>\n",
       "      <td>10968.0</td>\n",
       "      <td>349.0</td>\n",
       "      <td>360.0</td>\n",
       "      <td>1.0</td>\n",
       "      <td>Semiurban</td>\n",
       "      <td>N</td>\n",
       "    </tr>\n",
       "  </tbody>\n",
       "</table>\n",
       "</div>"
      ],
      "text/plain": [
       "    Loan_ID Gender Married Dependents     Education Self_Employed  \\\n",
       "0  LP001002   Male      No          0      Graduate            No   \n",
       "1  LP001003   Male     Yes          1      Graduate            No   \n",
       "2  LP001005   Male     Yes          0      Graduate           Yes   \n",
       "3  LP001006   Male     Yes          0  Not Graduate            No   \n",
       "4  LP001008   Male      No          0      Graduate            No   \n",
       "5  LP001011   Male     Yes          2      Graduate           Yes   \n",
       "6  LP001013   Male     Yes          0  Not Graduate            No   \n",
       "7  LP001014   Male     Yes         3+      Graduate            No   \n",
       "8  LP001018   Male     Yes          2      Graduate            No   \n",
       "9  LP001020   Male     Yes          1      Graduate            No   \n",
       "\n",
       "   ApplicantIncome  CoapplicantIncome  LoanAmount  Loan_Amount_Term  \\\n",
       "0             5849                0.0         NaN             360.0   \n",
       "1             4583             1508.0       128.0             360.0   \n",
       "2             3000                0.0        66.0             360.0   \n",
       "3             2583             2358.0       120.0             360.0   \n",
       "4             6000                0.0       141.0             360.0   \n",
       "5             5417             4196.0       267.0             360.0   \n",
       "6             2333             1516.0        95.0             360.0   \n",
       "7             3036             2504.0       158.0             360.0   \n",
       "8             4006             1526.0       168.0             360.0   \n",
       "9            12841            10968.0       349.0             360.0   \n",
       "\n",
       "   Credit_History Property_Area Loan_Status  \n",
       "0             1.0         Urban           Y  \n",
       "1             1.0         Rural           N  \n",
       "2             1.0         Urban           Y  \n",
       "3             1.0         Urban           Y  \n",
       "4             1.0         Urban           Y  \n",
       "5             1.0         Urban           Y  \n",
       "6             1.0         Urban           Y  \n",
       "7             0.0     Semiurban           N  \n",
       "8             1.0         Urban           Y  \n",
       "9             1.0     Semiurban           N  "
      ]
     },
     "execution_count": 2,
     "metadata": {},
     "output_type": "execute_result"
    }
   ],
   "source": [
    "# Open table and read it into a pandas dataframe and then save it as a variable called data\n",
    "data = pd.read_csv('../LoanApproval/train_u6lujuX_CVtuZ9i.csv')\n",
    "\n",
    "# SELECT top 10 * FROM data\n",
    "data.head(10)"
   ]
  },
  {
   "cell_type": "markdown",
   "metadata": {},
   "source": [
    "# First Steps"
   ]
  },
  {
   "cell_type": "markdown",
   "metadata": {},
   "source": [
    " - Now **data** contains a Dataframe (TABLE) that has our data\n",
    " - In *pandas* each Dataframe variable has certain *methods*, or functions attached to the Dataframe class, you can call that do different things.  The above set of code `data.head(10)` calls the method `head` and asks it to return the top 10 rows of the Dataframe\n",
    " - To learn more about any class object or method, you can just add a `?` behind it in a code cell and run it to bring up the help on it.  Try running that below for the `head` method."
   ]
  },
  {
   "cell_type": "code",
   "execution_count": 3,
   "metadata": {
    "collapsed": false
   },
   "outputs": [],
   "source": [
    "data.head?"
   ]
  },
  {
   "cell_type": "markdown",
   "metadata": {},
   "source": [
    "- You can also type in a variable once it's been loaded in, and once you add a `.` to the end, and press the TAB key you will see an autocomplete list of the available methods. Try that below with data..."
   ]
  },
  {
   "cell_type": "code",
   "execution_count": null,
   "metadata": {
    "collapsed": false
   },
   "outputs": [],
   "source": [
    "data."
   ]
  },
  {
   "cell_type": "markdown",
   "metadata": {},
   "source": [
    " - You may notice also that you can access a column of the data by adding the column name behind a `.` as well.  This works for any column without a SPACE in the name.  You can always access a column with the syntax `data['LoanAmount']`.  When you select a column, you get a pandas series.  This series shares the same index as the Dataframe `data`."
   ]
  },
  {
   "cell_type": "code",
   "execution_count": 4,
   "metadata": {
    "collapsed": false,
    "scrolled": true
   },
   "outputs": [
    {
     "data": {
      "text/plain": [
       "0        NaN\n",
       "1      128.0\n",
       "2       66.0\n",
       "3      120.0\n",
       "4      141.0\n",
       "5      267.0\n",
       "6       95.0\n",
       "7      158.0\n",
       "8      168.0\n",
       "9      349.0\n",
       "10      70.0\n",
       "11     109.0\n",
       "12     200.0\n",
       "13     114.0\n",
       "14      17.0\n",
       "15     125.0\n",
       "16     100.0\n",
       "17      76.0\n",
       "18     133.0\n",
       "19     115.0\n",
       "20     104.0\n",
       "21     315.0\n",
       "22     116.0\n",
       "23     112.0\n",
       "24     151.0\n",
       "25     191.0\n",
       "26     122.0\n",
       "27     110.0\n",
       "28      35.0\n",
       "29     120.0\n",
       "       ...  \n",
       "584    146.0\n",
       "585    172.0\n",
       "586    104.0\n",
       "587     70.0\n",
       "588     94.0\n",
       "589    106.0\n",
       "590     56.0\n",
       "591    205.0\n",
       "592    292.0\n",
       "593    142.0\n",
       "594    260.0\n",
       "595    110.0\n",
       "596    187.0\n",
       "597     88.0\n",
       "598    180.0\n",
       "599    192.0\n",
       "600    350.0\n",
       "601    155.0\n",
       "602    128.0\n",
       "603    172.0\n",
       "604    496.0\n",
       "605      NaN\n",
       "606    173.0\n",
       "607    157.0\n",
       "608    108.0\n",
       "609     71.0\n",
       "610     40.0\n",
       "611    253.0\n",
       "612    187.0\n",
       "613    133.0\n",
       "Name: LoanAmount, dtype: float64"
      ]
     },
     "execution_count": 4,
     "metadata": {},
     "output_type": "execute_result"
    }
   ],
   "source": [
    "# SELECT LoanAmount FROM data\n",
    "\n",
    "data.LoanAmount"
   ]
  },
  {
   "cell_type": "code",
   "execution_count": null,
   "metadata": {
    "collapsed": false
   },
   "outputs": [],
   "source": [
    "print(type(data))\n",
    "print(type(data.LoanAmount))\n",
    "print(type(data['LoanAmount']))"
   ]
  },
  {
   "cell_type": "markdown",
   "metadata": {},
   "source": [
    " - You can select multiple columns by putting them in a list.  This means that you add a set of [] around a comma separated list of column names.  "
   ]
  },
  {
   "cell_type": "code",
   "execution_count": null,
   "metadata": {
    "collapsed": false
   },
   "outputs": [],
   "source": [
    "# SELECT TOP 5 Credit_History, LoanAmount FROM data\n",
    "\n",
    "colsToSelect = ['Credit_History','LoanAmount']\n",
    "\n",
    "data[colsToSelect].head()\n",
    "# This is often just expressed like data[['Credit_History','LoanAmount']], but note the 2 sets of brackets"
   ]
  },
  {
   "cell_type": "markdown",
   "metadata": {},
   "source": [
    " - What sort of values are in Credit_History?  We can run the method `value_counts` to see a list with the number of records that have each value.  This list is sorted in descending order"
   ]
  },
  {
   "cell_type": "code",
   "execution_count": null,
   "metadata": {
    "collapsed": false
   },
   "outputs": [],
   "source": [
    "data['Credit_History'].value_counts()"
   ]
  },
  {
   "cell_type": "markdown",
   "metadata": {},
   "source": [
    " - In python, you can chain multiple objects and methods together with the `.`  This can lead to very efficient code where you perform several actions and then do something with the result.  In the section below, we will grab a section of the data, manipulate it, and then plot the results all in one line of code, but here we can keep it broken into pieces"
   ]
  },
  {
   "cell_type": "code",
   "execution_count": null,
   "metadata": {
    "collapsed": false
   },
   "outputs": [],
   "source": [
    "propTypeCounts = data['Property_Area'].value_counts()\n",
    "propTypeCounts.plot(kind='bar')"
   ]
  },
  {
   "cell_type": "markdown",
   "metadata": {},
   "source": [
    "### Using Group By to look into relationships\n",
    "\n",
    "Let's start with a simple groupby to learn more about the relationship between Loan_Status and Credit_History"
   ]
  },
  {
   "cell_type": "code",
   "execution_count": null,
   "metadata": {
    "collapsed": false
   },
   "outputs": [],
   "source": [
    "# SELECT Credit_History, Loan_Status, count(*) FROM data groupby Credit_History, Loan_Status\n",
    "\n",
    "data.groupby(['Credit_History', 'Loan_Status']).size()"
   ]
  },
  {
   "cell_type": "markdown",
   "metadata": {
    "collapsed": false
   },
   "source": [
    " - In pandas, we can take this one step further and formulate the results quickly into a 'Crosstab' query to get a format that can be easily graphed by calling the unstack() function."
   ]
  },
  {
   "cell_type": "code",
   "execution_count": null,
   "metadata": {
    "collapsed": false
   },
   "outputs": [],
   "source": [
    "data.groupby(['Credit_History', 'Loan_Status']).size().unstack()"
   ]
  },
  {
   "cell_type": "code",
   "execution_count": null,
   "metadata": {
    "collapsed": false,
    "scrolled": false
   },
   "outputs": [],
   "source": [
    "data.groupby(['Credit_History', 'Loan_Status']).size().unstack().plot(kind='bar')"
   ]
  },
  {
   "cell_type": "markdown",
   "metadata": {},
   "source": [
    "### Let's look at income and loan amount\n",
    " - The info method will list each of the columns in the DataFrame."
   ]
  },
  {
   "cell_type": "code",
   "execution_count": null,
   "metadata": {
    "collapsed": false
   },
   "outputs": [],
   "source": [
    "data.info()"
   ]
  },
  {
   "cell_type": "markdown",
   "metadata": {},
   "source": [
    " - We can see that there is a column for **ApplicantIncome** and **CoapplicantIncome**.  Let's create a new column **TotalIncome**"
   ]
  },
  {
   "cell_type": "code",
   "execution_count": null,
   "metadata": {
    "collapsed": false
   },
   "outputs": [],
   "source": [
    "data['TotalIncome'] = data['ApplicantIncome'] + data['CoapplicantIncome']\n",
    "data.head()"
   ]
  },
  {
   "cell_type": "markdown",
   "metadata": {},
   "source": [
    "#### Let's try and showoff some cool graphs\n",
    " - These may have some sections that look kind of advanced, but it's just to show how the graphs can be customized and labeled to be used in presentations."
   ]
  },
  {
   "cell_type": "code",
   "execution_count": null,
   "metadata": {
    "collapsed": false
   },
   "outputs": [],
   "source": [
    "# We dont Probably need the Gridlines. Do we? If yes comment this line\n",
    "sns.set(style=\"ticks\")\n",
    "\n",
    "# Here we create a matplotlib axes object. The extra parameters we use \n",
    "# \"ci\" to remove confidence interval\n",
    "# \"marker\" to have a x as marker. \n",
    "# \"scatter_kws\" to provide style info for the points.[s for size]\n",
    "# \"line_kws\" to provide style info for the line.[lw for line width]\n",
    "\n",
    "g = sns.regplot(x='LoanAmount', y='TotalIncome', data=data, ci = False, \n",
    "    scatter_kws={\"color\":\"darkred\",\"alpha\":0.3,\"s\":90},\n",
    "    line_kws={\"color\":\"g\",\"alpha\":0.5,\"lw\":4},\n",
    "    marker=\"x\")\n",
    "\n",
    "# remove the top and right line in graph\n",
    "sns.despine()\n",
    "\n",
    "# Set the size of the graph from here\n",
    "g.figure.set_size_inches(8,5)\n",
    "# Set the Title of the graph from here\n",
    "g.axes.set_title('Total Income vs. Loan Amount', fontsize=34,color=\"r\",alpha=0.5)\n",
    "# Set the xlabel of the graph from here\n",
    "g.set_xlabel(\"Loan Amount\",size = 32,color=\"r\",alpha=0.5)\n",
    "# Set the ylabel of the graph from here\n",
    "g.set_ylabel(\"Total Income\",size = 32,color=\"r\",alpha=0.5)\n",
    "# Set the ticklabel size and color of the graph from here\n",
    "g.tick_params(labelsize=14,labelcolor=\"black\")"
   ]
  },
  {
   "cell_type": "markdown",
   "metadata": {},
   "source": [
    "#### Let's do one more to see if this relationship changes for loans that were either rejected or approved"
   ]
  },
  {
   "cell_type": "code",
   "execution_count": null,
   "metadata": {
    "collapsed": false
   },
   "outputs": [],
   "source": [
    "# So this function creates a faceted plot. The plot is parameterized by the following:\n",
    "\n",
    "# col : divides the data points into days and creates that many plots\n",
    "# palette: deep, muted, pastel, bright, dark, and colorblind. change the colors in graph. Experiment with these\n",
    "# col_wrap: we want 2 graphs in a row? Yes.We do\n",
    "# scatter_kws: attributes for points\n",
    "# hue: Colors on a particular column.\n",
    "# size: controls the size of graph\n",
    "\n",
    "g = sns.lmplot(x='LoanAmount', y='TotalIncome',ci=None,data=data, col='Loan_Status',\n",
    "    palette=\"muted\",col_wrap=2,scatter_kws={\"s\": 100,\"alpha\":.5},\n",
    "    line_kws={\"lw\":4,\"alpha\":0.5},hue='Loan_Status',x_jitter=1.0,y_jitter=1.0,size=6)\n",
    "\n",
    "# remove the top and right line in graph\n",
    "sns.despine()\n",
    "# Additional line to adjust some appearance issue\n",
    "plt.subplots_adjust(top=0.85)\n",
    "\n",
    "# Set the Title of the graph from here\n",
    "g.fig.suptitle('Total Income vs Loan Amount', fontsize=34,color=\"r\",alpha=0.5)\n",
    "\n",
    "# Set the xlabel of the graph from here\n",
    "g.set_xlabels(\"Loan Amount\",size = 32,color=\"r\",alpha=0.5)\n",
    "\n",
    "# Set the ylabel of the graph from here\n",
    "g.set_ylabels(\"Total Income\",size = 32,color=\"r\",alpha=0.5)\n",
    "\n",
    "# Set the ticklabel size and color of the graph from here\n",
    "titles = ['Approved','Rejected']\n",
    "for ax,title in zip(g.axes.flat,titles):\n",
    "    ax.tick_params(labelsize=14,labelcolor=\"black\")\n",
    "    ax.set_title(title)"
   ]
  }
 ],
 "metadata": {
  "anaconda-cloud": {},
  "kernelspec": {
   "display_name": "Python [conda root]",
   "language": "python",
   "name": "conda-root-py"
  },
  "language_info": {
   "codemirror_mode": {
    "name": "ipython",
    "version": 3
   },
   "file_extension": ".py",
   "mimetype": "text/x-python",
   "name": "python",
   "nbconvert_exporter": "python",
   "pygments_lexer": "ipython3",
   "version": "3.5.2"
  }
 },
 "nbformat": 4,
 "nbformat_minor": 1
}
